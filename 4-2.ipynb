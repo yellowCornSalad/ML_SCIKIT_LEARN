{
 "cells": [
  {
   "cell_type": "code",
   "execution_count": 1,
   "metadata": {},
   "outputs": [],
   "source": [
    "import pandas as pd\n",
    "import numpy as np\n",
    "import matplotlib.pyplot as plt\n",
    "np.random.seed(2022)\n"
   ]
  },
  {
   "cell_type": "code",
   "execution_count": 2,
   "metadata": {},
   "outputs": [],
   "source": [
    "data = np.array(\n",
    "    [\n",
    "        [1, 5],\n",
    "        [2, 4],\n",
    "        [4, 6],\n",
    "        [4, 3],\n",
    "        [5, 3],\n",
    "    ]\n",
    ")\n"
   ]
  },
  {
   "cell_type": "code",
   "execution_count": 3,
   "metadata": {},
   "outputs": [
    {
     "data": {
      "text/plain": [
       "array([[1, 5],\n",
       "       [2, 4],\n",
       "       [4, 6],\n",
       "       [4, 3],\n",
       "       [5, 3]])"
      ]
     },
     "execution_count": 3,
     "metadata": {},
     "output_type": "execute_result"
    }
   ],
   "source": [
    "data"
   ]
  },
  {
   "cell_type": "code",
   "execution_count": 4,
   "metadata": {},
   "outputs": [],
   "source": [
    "from sklearn.cluster import AgglomerativeClustering\n",
    "# distance_threshold = 0, n_clusters = None : 모든 것을 계층화하겠다.\n",
    "single_cluster = AgglomerativeClustering(\n",
    "    distance_threshold = 0, n_clusters = None, linkage = 'single'\n",
    ")"
   ]
  },
  {
   "cell_type": "code",
   "execution_count": 5,
   "metadata": {},
   "outputs": [
    {
     "data": {
      "text/plain": [
       "AgglomerativeClustering(distance_threshold=0, linkage='single', n_clusters=None)"
      ]
     },
     "execution_count": 5,
     "metadata": {},
     "output_type": "execute_result"
    }
   ],
   "source": [
    "single_cluster.fit(data)"
   ]
  },
  {
   "cell_type": "code",
   "execution_count": 6,
   "metadata": {},
   "outputs": [
    {
     "ename": "NameError",
     "evalue": "name 'avg_cluster' is not defined",
     "output_type": "error",
     "traceback": [
      "\u001b[0;31m---------------------------------------------------------------------------\u001b[0m",
      "\u001b[0;31mNameError\u001b[0m                                 Traceback (most recent call last)",
      "\u001b[1;32m/Users/junho/Documents/ml_scikit-learn/ML_SCIKIT_LEARN/4-2.ipynb Cell 6'\u001b[0m in \u001b[0;36m<cell line: 1>\u001b[0;34m()\u001b[0m\n\u001b[1;32m      <a href='vscode-notebook-cell:/Users/junho/Documents/ml_scikit-learn/ML_SCIKIT_LEARN/4-2.ipynb#ch0000005?line=0'>1</a>\u001b[0m clusters \u001b[39m=\u001b[39m [[\u001b[39m'\u001b[39m\u001b[39mSingle\u001b[39m\u001b[39m'\u001b[39m, single_cluster],\n\u001b[0;32m----> <a href='vscode-notebook-cell:/Users/junho/Documents/ml_scikit-learn/ML_SCIKIT_LEARN/4-2.ipynb#ch0000005?line=1'>2</a>\u001b[0m             [\u001b[39m'\u001b[39m\u001b[39mAverage\u001b[39m\u001b[39m'\u001b[39m, avg_cluster],\n\u001b[1;32m      <a href='vscode-notebook-cell:/Users/junho/Documents/ml_scikit-learn/ML_SCIKIT_LEARN/4-2.ipynb#ch0000005?line=2'>3</a>\u001b[0m             [\u001b[39m'\u001b[39m\u001b[39mMaximum\u001b[39m\u001b[39m'\u001b[39m, max_cluster],\n\u001b[1;32m      <a href='vscode-notebook-cell:/Users/junho/Documents/ml_scikit-learn/ML_SCIKIT_LEARN/4-2.ipynb#ch0000005?line=3'>4</a>\u001b[0m             [\u001b[39m'\u001b[39m\u001b[39mCentroid\u001b[39m\u001b[39m'\u001b[39m, centroid_cluster],\n\u001b[1;32m      <a href='vscode-notebook-cell:/Users/junho/Documents/ml_scikit-learn/ML_SCIKIT_LEARN/4-2.ipynb#ch0000005?line=4'>5</a>\u001b[0m             ]\n",
      "\u001b[0;31mNameError\u001b[0m: name 'avg_cluster' is not defined"
     ]
    }
   ],
   "source": [
    "clusters = [['Single', single_cluster],\n",
    "            ['Average', avg_cluster],\n",
    "            ['Maximum', max_cluster],\n",
    "            ['Centroid', centroid_cluster],\n",
    "            ]\n"
   ]
  },
  {
   "cell_type": "code",
   "execution_count": null,
   "metadata": {},
   "outputs": [],
   "source": []
  }
 ],
 "metadata": {
  "interpreter": {
   "hash": "5afa5aa7b69c32d3b565867273983d8a61d91c40c8a4d4dd864a0c5010d3992a"
  },
  "kernelspec": {
   "display_name": "Python 3.9.12 ('venv_mlsci': venv)",
   "language": "python",
   "name": "python3"
  },
  "language_info": {
   "codemirror_mode": {
    "name": "ipython",
    "version": 3
   },
   "file_extension": ".py",
   "mimetype": "text/x-python",
   "name": "python",
   "nbconvert_exporter": "python",
   "pygments_lexer": "ipython3",
   "version": "3.9.12"
  },
  "orig_nbformat": 4
 },
 "nbformat": 4,
 "nbformat_minor": 2
}
