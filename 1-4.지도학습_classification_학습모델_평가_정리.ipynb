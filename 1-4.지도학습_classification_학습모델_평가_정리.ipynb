{
 "cells": [
  {
   "cell_type": "code",
   "execution_count": null,
   "metadata": {},
   "outputs": [],
   "source": []
  },
  {
   "cell_type": "code",
   "execution_count": 3,
   "metadata": {},
   "outputs": [
    {
     "ename": "NameError",
     "evalue": "name 'model_dtc' is not defined",
     "output_type": "error",
     "traceback": [
      "\u001b[0;31m---------------------------------------------------------------------------\u001b[0m",
      "\u001b[0;31mNameError\u001b[0m                                 Traceback (most recent call last)",
      "\u001b[1;32m/Users/junho/Documents/ml_scikit-learn/1-4.지도학습_classification_학습모델_평가_정리.ipynb Cell 1'\u001b[0m in \u001b[0;36m<cell line: 7>\u001b[0;34m()\u001b[0m\n\u001b[1;32m      <a href='vscode-notebook-cell:/Users/junho/Documents/ml_scikit-learn/1-4.%EC%A7%80%EB%8F%84%ED%95%99%EC%8A%B5_classification_%ED%95%99%EC%8A%B5%EB%AA%A8%EB%8D%B8_%ED%8F%89%EA%B0%80_%EC%A0%95%EB%A6%AC.ipynb#ch0000000?line=3'>4</a>\u001b[0m \u001b[39mfrom\u001b[39;00m \u001b[39msklearn\u001b[39;00m\u001b[39m.\u001b[39;00m\u001b[39mmetrics\u001b[39;00m \u001b[39mimport\u001b[39;00m classification_report\n\u001b[1;32m      <a href='vscode-notebook-cell:/Users/junho/Documents/ml_scikit-learn/1-4.%EC%A7%80%EB%8F%84%ED%95%99%EC%8A%B5_classification_%ED%95%99%EC%8A%B5%EB%AA%A8%EB%8D%B8_%ED%8F%89%EA%B0%80_%EC%A0%95%EB%A6%AC.ipynb#ch0000000?line=5'>6</a>\u001b[0m \u001b[39m# Predict를 수행하고 classification_report() 결과 출력\u001b[39;00m\n\u001b[0;32m----> <a href='vscode-notebook-cell:/Users/junho/Documents/ml_scikit-learn/1-4.%EC%A7%80%EB%8F%84%ED%95%99%EC%8A%B5_classification_%ED%95%99%EC%8A%B5%EB%AA%A8%EB%8D%B8_%ED%8F%89%EA%B0%80_%EC%A0%95%EB%A6%AC.ipynb#ch0000000?line=6'>7</a>\u001b[0m pred_y \u001b[39m=\u001b[39m model_dtc\u001b[39m.\u001b[39mpredict(X_test)\n\u001b[1;32m      <a href='vscode-notebook-cell:/Users/junho/Documents/ml_scikit-learn/1-4.%EC%A7%80%EB%8F%84%ED%95%99%EC%8A%B5_classification_%ED%95%99%EC%8A%B5%EB%AA%A8%EB%8D%B8_%ED%8F%89%EA%B0%80_%EC%A0%95%EB%A6%AC.ipynb#ch0000000?line=7'>8</a>\u001b[0m \u001b[39mprint\u001b[39m(classification_report(y_test, y_pred, target_names\u001b[39m=\u001b[39mcancer\u001b[39m.\u001b[39mtarget_names))\n\u001b[1;32m      <a href='vscode-notebook-cell:/Users/junho/Documents/ml_scikit-learn/1-4.%EC%A7%80%EB%8F%84%ED%95%99%EC%8A%B5_classification_%ED%95%99%EC%8A%B5%EB%AA%A8%EB%8D%B8_%ED%8F%89%EA%B0%80_%EC%A0%95%EB%A6%AC.ipynb#ch0000000?line=8'>9</a>\u001b[0m \u001b[39m# classification_report(y_test, y_pred) 순으로 해야함.\u001b[39;00m\n\u001b[1;32m     <a href='vscode-notebook-cell:/Users/junho/Documents/ml_scikit-learn/1-4.%EC%A7%80%EB%8F%84%ED%95%99%EC%8A%B5_classification_%ED%95%99%EC%8A%B5%EB%AA%A8%EB%8D%B8_%ED%8F%89%EA%B0%80_%EC%A0%95%EB%A6%AC.ipynb#ch0000000?line=9'>10</a>\u001b[0m \u001b[39m# 값이 바뀜.\u001b[39;00m\n\u001b[1;32m     <a href='vscode-notebook-cell:/Users/junho/Documents/ml_scikit-learn/1-4.%EC%A7%80%EB%8F%84%ED%95%99%EC%8A%B5_classification_%ED%95%99%EC%8A%B5%EB%AA%A8%EB%8D%B8_%ED%8F%89%EA%B0%80_%EC%A0%95%EB%A6%AC.ipynb#ch0000000?line=10'>11</a>\u001b[0m \u001b[39m# print(classification_report(y_pred, y_test, target_names=cancer.target_names))\u001b[39;00m\n\u001b[1;32m     <a href='vscode-notebook-cell:/Users/junho/Documents/ml_scikit-learn/1-4.%EC%A7%80%EB%8F%84%ED%95%99%EC%8A%B5_classification_%ED%95%99%EC%8A%B5%EB%AA%A8%EB%8D%B8_%ED%8F%89%EA%B0%80_%EC%A0%95%EB%A6%AC.ipynb#ch0000000?line=11'>12</a>\u001b[0m \n\u001b[1;32m     <a href='vscode-notebook-cell:/Users/junho/Documents/ml_scikit-learn/1-4.%EC%A7%80%EB%8F%84%ED%95%99%EC%8A%B5_classification_%ED%95%99%EC%8A%B5%EB%AA%A8%EB%8D%B8_%ED%8F%89%EA%B0%80_%EC%A0%95%EB%A6%AC.ipynb#ch0000000?line=12'>13</a>\u001b[0m \u001b[39m# 분류 성능평가 레포트 함수 코드 기본\u001b[39;00m\n\u001b[1;32m     <a href='vscode-notebook-cell:/Users/junho/Documents/ml_scikit-learn/1-4.%EC%A7%80%EB%8F%84%ED%95%99%EC%8A%B5_classification_%ED%95%99%EC%8A%B5%EB%AA%A8%EB%8D%B8_%ED%8F%89%EA%B0%80_%EC%A0%95%EB%A6%AC.ipynb#ch0000000?line=13'>14</a>\u001b[0m \u001b[39m#print(classification_report(y_test, y_pred, labels=[0, 1]))\u001b[39;00m\n",
      "\u001b[0;31mNameError\u001b[0m: name 'model_dtc' is not defined"
     ]
    }
   ],
   "source": [
    "# 분류 성능평가 레포트 함수 코드\n",
    "\n",
    "\n",
    "from sklearn.metrics import classification_report\n",
    "\n",
    "# Predict를 수행하고 classification_report() 결과 출력\n",
    "pred_y = model_dtc.predict(X_test)\n",
    "print(classification_report(y_test, y_pred, target_names=cancer.target_names))\n",
    "# classification_report(y_test, y_pred) 순으로 해야함.\n",
    "# 값이 바뀜.\n",
    "# print(classification_report(y_pred, y_test, target_names=cancer.target_names))\n",
    "\n",
    "# 분류 성능평가 레포트 함수 코드 기본\n",
    "#print(classification_report(y_test, y_pred, labels=[0, 1]))\n",
    "print(classification_report(y_test, y_pred))\n"
   ]
  },
  {
   "cell_type": "code",
   "execution_count": null,
   "metadata": {},
   "outputs": [],
   "source": [
    "df_sample = pd.concat([df_pos, df_neg[:5]], sort = True)"
   ]
  },
  {
   "cell_type": "code",
   "execution_count": 2,
   "metadata": {},
   "outputs": [
    {
     "ename": "NameError",
     "evalue": "name 'df_sample' is not defined",
     "output_type": "error",
     "traceback": [
      "\u001b[0;31m---------------------------------------------------------------------------\u001b[0m",
      "\u001b[0;31mNameError\u001b[0m                                 Traceback (most recent call last)",
      "\u001b[1;32m/Users/junho/Documents/ml_scikit-learn/1-4.지도학습_classification_학습모델_평가_정리.ipynb Cell 3'\u001b[0m in \u001b[0;36m<cell line: 1>\u001b[0;34m()\u001b[0m\n\u001b[0;32m----> <a href='vscode-notebook-cell:/Users/junho/Documents/ml_scikit-learn/1-4.%EC%A7%80%EB%8F%84%ED%95%99%EC%8A%B5_classification_%ED%95%99%EC%8A%B5%EB%AA%A8%EB%8D%B8_%ED%8F%89%EA%B0%80_%EC%A0%95%EB%A6%AC.ipynb#ch0000002?line=0'>1</a>\u001b[0m x \u001b[39m=\u001b[39m df_sample\u001b[39m.\u001b[39mdrop(\u001b[39m'\u001b[39m\u001b[39mtarget\u001b[39m\u001b[39m'\u001b[39m, axis \u001b[39m=\u001b[39m \u001b[39m1\u001b[39m)\n\u001b[1;32m      <a href='vscode-notebook-cell:/Users/junho/Documents/ml_scikit-learn/1-4.%EC%A7%80%EB%8F%84%ED%95%99%EC%8A%B5_classification_%ED%95%99%EC%8A%B5%EB%AA%A8%EB%8D%B8_%ED%8F%89%EA%B0%80_%EC%A0%95%EB%A6%AC.ipynb#ch0000002?line=1'>2</a>\u001b[0m y \u001b[39m=\u001b[39m df_sample[\u001b[39m'\u001b[39m\u001b[39mtarget\u001b[39m\u001b[39m'\u001b[39m]\n",
      "\u001b[0;31mNameError\u001b[0m: name 'df_sample' is not defined"
     ]
    }
   ],
   "source": [
    "X = df_sample.drop('target', axis = 1)\n",
    "y = df_sample['target']"
   ]
  },
  {
   "cell_type": "code",
   "execution_count": 5,
   "metadata": {},
   "outputs": [
    {
     "ename": "NameError",
     "evalue": "name 'train_test_split' is not defined",
     "output_type": "error",
     "traceback": [
      "\u001b[0;31m---------------------------------------------------------------------------\u001b[0m",
      "\u001b[0;31mNameError\u001b[0m                                 Traceback (most recent call last)",
      "\u001b[1;32m/Users/junho/Documents/ml_scikit-learn/1-4.지도학습_classification_학습모델_평가_정리.ipynb Cell 5'\u001b[0m in \u001b[0;36m<cell line: 1>\u001b[0;34m()\u001b[0m\n\u001b[0;32m----> <a href='vscode-notebook-cell:/Users/junho/Documents/ml_scikit-learn/1-4.%EC%A7%80%EB%8F%84%ED%95%99%EC%8A%B5_classification_%ED%95%99%EC%8A%B5%EB%AA%A8%EB%8D%B8_%ED%8F%89%EA%B0%80_%EC%A0%95%EB%A6%AC.ipynb#ch0000003?line=0'>1</a>\u001b[0m X_train, X_test, y_train, y_test \u001b[39m=\u001b[39m train_test_split(X, y, random_state \u001b[39m=\u001b[39m \u001b[39m20\u001b[39m, shuffle \u001b[39m=\u001b[39m \u001b[39mTrue\u001b[39;00m, stratify \u001b[39m=\u001b[39m y)\n",
      "\u001b[0;31mNameError\u001b[0m: name 'train_test_split' is not defined"
     ]
    }
   ],
   "source": [
    "X_train, X_test, y_train, y_test = train_test_split(X, y, random_state = 20, shuffle = True, stratify = y)"
   ]
  },
  {
   "cell_type": "code",
   "execution_count": 4,
   "metadata": {},
   "outputs": [
    {
     "ename": "NameError",
     "evalue": "name 'X_train' is not defined",
     "output_type": "error",
     "traceback": [
      "\u001b[0;31m---------------------------------------------------------------------------\u001b[0m",
      "\u001b[0;31mNameError\u001b[0m                                 Traceback (most recent call last)",
      "\u001b[1;32m/Users/junho/Documents/ml_scikit-learn/1-4.지도학습_classification_학습모델_평가_정리.ipynb Cell 6'\u001b[0m in \u001b[0;36m<cell line: 3>\u001b[0;34m()\u001b[0m\n\u001b[1;32m      <a href='vscode-notebook-cell:/Users/junho/Documents/ml_scikit-learn/1-4.%EC%A7%80%EB%8F%84%ED%95%99%EC%8A%B5_classification_%ED%95%99%EC%8A%B5%EB%AA%A8%EB%8D%B8_%ED%8F%89%EA%B0%80_%EC%A0%95%EB%A6%AC.ipynb#ch0000004?line=0'>1</a>\u001b[0m \u001b[39mfrom\u001b[39;00m \u001b[39msklearn\u001b[39;00m\u001b[39m.\u001b[39;00m\u001b[39mtree\u001b[39;00m \u001b[39mimport\u001b[39;00m DecisionTreeClassifier\n\u001b[1;32m      <a href='vscode-notebook-cell:/Users/junho/Documents/ml_scikit-learn/1-4.%EC%A7%80%EB%8F%84%ED%95%99%EC%8A%B5_classification_%ED%95%99%EC%8A%B5%EB%AA%A8%EB%8D%B8_%ED%8F%89%EA%B0%80_%EC%A0%95%EB%A6%AC.ipynb#ch0000004?line=1'>2</a>\u001b[0m model_dtc \u001b[39m=\u001b[39m DecisionTreeClassifier(max_depth\u001b[39m=\u001b[39m\u001b[39m5\u001b[39m)\n\u001b[0;32m----> <a href='vscode-notebook-cell:/Users/junho/Documents/ml_scikit-learn/1-4.%EC%A7%80%EB%8F%84%ED%95%99%EC%8A%B5_classification_%ED%95%99%EC%8A%B5%EB%AA%A8%EB%8D%B8_%ED%8F%89%EA%B0%80_%EC%A0%95%EB%A6%AC.ipynb#ch0000004?line=2'>3</a>\u001b[0m model_dtc\u001b[39m.\u001b[39mfit(X_train, y_train)\n",
      "\u001b[0;31mNameError\u001b[0m: name 'X_train' is not defined"
     ]
    }
   ],
   "source": [
    "from sklearn.tree import DecisionTreeClassifier\n",
    "model_dtc = DecisionTreeClassifier(max_depth=5)\n",
    "model_dtc.fit(X_train, y_train)"
   ]
  },
  {
   "cell_type": "code",
   "execution_count": null,
   "metadata": {},
   "outputs": [],
   "source": [
    "y_pred = model_dtc.predict(X_test)\n",
    "y_pred"
   ]
  },
  {
   "cell_type": "code",
   "execution_count": 7,
   "metadata": {},
   "outputs": [
    {
     "ename": "NameError",
     "evalue": "name 'pred_temp' is not defined",
     "output_type": "error",
     "traceback": [
      "\u001b[0;31m---------------------------------------------------------------------------\u001b[0m",
      "\u001b[0;31mNameError\u001b[0m                                 Traceback (most recent call last)",
      "\u001b[1;32m/Users/junho/Documents/ml_scikit-learn/1-4.지도학습_classification_학습모델_평가_정리.ipynb Cell 8'\u001b[0m in \u001b[0;36m<cell line: 1>\u001b[0;34m()\u001b[0m\n\u001b[0;32m----> <a href='vscode-notebook-cell:/Users/junho/Documents/ml_scikit-learn/1-4.%EC%A7%80%EB%8F%84%ED%95%99%EC%8A%B5_classification_%ED%95%99%EC%8A%B5%EB%AA%A8%EB%8D%B8_%ED%8F%89%EA%B0%80_%EC%A0%95%EB%A6%AC.ipynb#ch0000011?line=0'>1</a>\u001b[0m pred_temp \u001b[39m==\u001b[39m y_test\n",
      "\u001b[0;31mNameError\u001b[0m: name 'pred_temp' is not defined"
     ]
    }
   ],
   "source": [
    "pred_temp == y_test"
   ]
  },
  {
   "cell_type": "code",
   "execution_count": null,
   "metadata": {},
   "outputs": [],
   "source": [
    "(pred_temp == y_test).mean()"
   ]
  },
  {
   "cell_type": "code",
   "execution_count": null,
   "metadata": {},
   "outputs": [],
   "source": [
    "pred_y = model_dtc.predict(X_test)\n",
    "print(classification_report(y_test, y_pred, target_names = cancer.target_names))"
   ]
  },
  {
   "cell_type": "code",
   "execution_count": 6,
   "metadata": {},
   "outputs": [
    {
     "ename": "NameError",
     "evalue": "name 'y_test' is not defined",
     "output_type": "error",
     "traceback": [
      "\u001b[0;31m---------------------------------------------------------------------------\u001b[0m",
      "\u001b[0;31mNameError\u001b[0m                                 Traceback (most recent call last)",
      "\u001b[1;32m/Users/junho/Documents/ml_scikit-learn/1-4.지도학습_classification_학습모델_평가_정리.ipynb Cell 10'\u001b[0m in \u001b[0;36m<cell line: 3>\u001b[0;34m()\u001b[0m\n\u001b[1;32m      <a href='vscode-notebook-cell:/Users/junho/Documents/ml_scikit-learn/1-4.%EC%A7%80%EB%8F%84%ED%95%99%EC%8A%B5_classification_%ED%95%99%EC%8A%B5%EB%AA%A8%EB%8D%B8_%ED%8F%89%EA%B0%80_%EC%A0%95%EB%A6%AC.ipynb#ch0000009?line=0'>1</a>\u001b[0m \u001b[39m# confusion_matrix 결과 확인\u001b[39;00m\n\u001b[1;32m      <a href='vscode-notebook-cell:/Users/junho/Documents/ml_scikit-learn/1-4.%EC%A7%80%EB%8F%84%ED%95%99%EC%8A%B5_classification_%ED%95%99%EC%8A%B5%EB%AA%A8%EB%8D%B8_%ED%8F%89%EA%B0%80_%EC%A0%95%EB%A6%AC.ipynb#ch0000009?line=1'>2</a>\u001b[0m \u001b[39mfrom\u001b[39;00m \u001b[39msklearn\u001b[39;00m\u001b[39m.\u001b[39;00m\u001b[39mmetrics\u001b[39;00m \u001b[39mimport\u001b[39;00m confusion_matrix\n\u001b[0;32m----> <a href='vscode-notebook-cell:/Users/junho/Documents/ml_scikit-learn/1-4.%EC%A7%80%EB%8F%84%ED%95%99%EC%8A%B5_classification_%ED%95%99%EC%8A%B5%EB%AA%A8%EB%8D%B8_%ED%8F%89%EA%B0%80_%EC%A0%95%EB%A6%AC.ipynb#ch0000009?line=2'>3</a>\u001b[0m confusion_matrix(y_test, y_pred)\n",
      "\u001b[0;31mNameError\u001b[0m: name 'y_test' is not defined"
     ]
    }
   ],
   "source": [
    "# confusion_matrix 결과 확인\n",
    "from sklearn.metrics import confusion_matrix\n",
    "confusion_matrix(y_test, y_pred) # (target값, 예측결과 값)"
   ]
  },
  {
   "cell_type": "code",
   "execution_count": 8,
   "metadata": {},
   "outputs": [],
   "source": [
    "import seaborn as sns\n",
    "import matplotlib.pyplot as plt"
   ]
  },
  {
   "cell_type": "code",
   "execution_count": 9,
   "metadata": {},
   "outputs": [
    {
     "ename": "NameError",
     "evalue": "name 'y_test' is not defined",
     "output_type": "error",
     "traceback": [
      "\u001b[0;31m---------------------------------------------------------------------------\u001b[0m",
      "\u001b[0;31mNameError\u001b[0m                                 Traceback (most recent call last)",
      "\u001b[1;32m/Users/junho/Documents/ml_scikit-learn/1-4.지도학습_classification_학습모델_평가_정리.ipynb Cell 13'\u001b[0m in \u001b[0;36m<cell line: 1>\u001b[0;34m()\u001b[0m\n\u001b[0;32m----> <a href='vscode-notebook-cell:/Users/junho/Documents/ml_scikit-learn/1-4.%EC%A7%80%EB%8F%84%ED%95%99%EC%8A%B5_classification_%ED%95%99%EC%8A%B5%EB%AA%A8%EB%8D%B8_%ED%8F%89%EA%B0%80_%EC%A0%95%EB%A6%AC.ipynb#ch0000012?line=0'>1</a>\u001b[0m sns\u001b[39m.\u001b[39mheatmap(confusion_matrix(y_test, y_pred), annot\u001b[39m=\u001b[39m\u001b[39mTrue\u001b[39;00m, cmap \u001b[39m=\u001b[39m \u001b[39m'\u001b[39m\u001b[39mReds\u001b[39m\u001b[39m'\u001b[39m)\n\u001b[1;32m      <a href='vscode-notebook-cell:/Users/junho/Documents/ml_scikit-learn/1-4.%EC%A7%80%EB%8F%84%ED%95%99%EC%8A%B5_classification_%ED%95%99%EC%8A%B5%EB%AA%A8%EB%8D%B8_%ED%8F%89%EA%B0%80_%EC%A0%95%EB%A6%AC.ipynb#ch0000012?line=1'>2</a>\u001b[0m plt\u001b[39m.\u001b[39mxlabel(\u001b[39m'\u001b[39m\u001b[39mPredict\u001b[39m\u001b[39m'\u001b[39m)\n\u001b[1;32m      <a href='vscode-notebook-cell:/Users/junho/Documents/ml_scikit-learn/1-4.%EC%A7%80%EB%8F%84%ED%95%99%EC%8A%B5_classification_%ED%95%99%EC%8A%B5%EB%AA%A8%EB%8D%B8_%ED%8F%89%EA%B0%80_%EC%A0%95%EB%A6%AC.ipynb#ch0000012?line=2'>3</a>\u001b[0m plt\u001b[39m.\u001b[39mylabel(\u001b[39m'\u001b[39m\u001b[39mActual\u001b[39m\u001b[39m'\u001b[39m)\n",
      "\u001b[0;31mNameError\u001b[0m: name 'y_test' is not defined"
     ]
    }
   ],
   "source": [
    "sns.heatmap(confusion_matrix(y_test, y_pred), annot=True, cmap = 'Reds')\n",
    "plt.xlabel('Predict')\n",
    "plt.ylabel('Actual')\n",
    "\n",
    "plt.show()"
   ]
  },
  {
   "cell_type": "code",
   "execution_count": null,
   "metadata": {},
   "outputs": [],
   "source": []
  }
 ],
 "metadata": {
  "interpreter": {
   "hash": "5afa5aa7b69c32d3b565867273983d8a61d91c40c8a4d4dd864a0c5010d3992a"
  },
  "kernelspec": {
   "display_name": "Python 3.9.9 ('venv_mlsci': venv)",
   "language": "python",
   "name": "python3"
  },
  "language_info": {
   "codemirror_mode": {
    "name": "ipython",
    "version": 3
   },
   "file_extension": ".py",
   "mimetype": "text/x-python",
   "name": "python",
   "nbconvert_exporter": "python",
   "pygments_lexer": "ipython3",
   "version": "3.9.9"
  },
  "orig_nbformat": 4
 },
 "nbformat": 4,
 "nbformat_minor": 2
}
